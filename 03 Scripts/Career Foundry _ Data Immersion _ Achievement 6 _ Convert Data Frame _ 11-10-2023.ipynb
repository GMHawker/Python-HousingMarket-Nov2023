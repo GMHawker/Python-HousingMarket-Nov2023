{
 "cells": [
  {
   "cell_type": "markdown",
   "id": "17e93e2e",
   "metadata": {},
   "source": [
    "# Dataframe Viewer"
   ]
  },
  {
   "cell_type": "markdown",
   "id": "0ee3b52c",
   "metadata": {},
   "source": [
    "## Importations"
   ]
  },
  {
   "cell_type": "code",
   "execution_count": 1,
   "id": "64be9efe",
   "metadata": {},
   "outputs": [],
   "source": [
    "# Import Libraries\n",
    "\n",
    "import pandas as pd\n",
    "import numpy as np\n",
    "import os"
   ]
  },
  {
   "cell_type": "code",
   "execution_count": 2,
   "id": "2f763a5d",
   "metadata": {},
   "outputs": [],
   "source": [
    "# Set Path\n",
    "\n",
    "path = r'C:\\Users\\calli\\OneDrive\\Desktop\\School\\Career Foundry\\Data Immersion\\Achievement 6'"
   ]
  },
  {
   "cell_type": "code",
   "execution_count": 3,
   "id": "2714ef0b",
   "metadata": {},
   "outputs": [],
   "source": [
    "# Import Housing_Income_Merged_4\n",
    "\n",
    "Housing_Income_Merged_4 = pd.read_pickle(os.path.join(path, '02 Data', 'Prepared Data', 'Housing_Income_Merged_4.pkl'))"
   ]
  },
  {
   "cell_type": "code",
   "execution_count": 4,
   "id": "ab766e8a",
   "metadata": {},
   "outputs": [
    {
     "data": {
      "text/html": [
       "<div>\n",
       "<style scoped>\n",
       "    .dataframe tbody tr th:only-of-type {\n",
       "        vertical-align: middle;\n",
       "    }\n",
       "\n",
       "    .dataframe tbody tr th {\n",
       "        vertical-align: top;\n",
       "    }\n",
       "\n",
       "    .dataframe thead th {\n",
       "        text-align: right;\n",
       "    }\n",
       "</style>\n",
       "<table border=\"1\" class=\"dataframe\">\n",
       "  <thead>\n",
       "    <tr style=\"text-align: right;\">\n",
       "      <th></th>\n",
       "      <th>id</th>\n",
       "      <th>bed</th>\n",
       "      <th>bath</th>\n",
       "      <th>acre_lot</th>\n",
       "      <th>city</th>\n",
       "      <th>state_name</th>\n",
       "      <th>zip_code</th>\n",
       "      <th>house_size</th>\n",
       "      <th>prev_sold_date</th>\n",
       "      <th>price</th>\n",
       "      <th>average_income</th>\n",
       "      <th>income_level</th>\n",
       "      <th>price_category</th>\n",
       "      <th>state</th>\n",
       "      <th>clusters</th>\n",
       "    </tr>\n",
       "  </thead>\n",
       "  <tbody>\n",
       "    <tr>\n",
       "      <th>0</th>\n",
       "      <td>1</td>\n",
       "      <td>2</td>\n",
       "      <td>1</td>\n",
       "      <td>0.34</td>\n",
       "      <td>Agawam</td>\n",
       "      <td>Massachusetts</td>\n",
       "      <td>1001</td>\n",
       "      <td>676</td>\n",
       "      <td>NaN</td>\n",
       "      <td>180000</td>\n",
       "      <td>50403.756548</td>\n",
       "      <td>Low Income</td>\n",
       "      <td>Low Cost</td>\n",
       "      <td>MA</td>\n",
       "      <td>0</td>\n",
       "    </tr>\n",
       "    <tr>\n",
       "      <th>1</th>\n",
       "      <td>2</td>\n",
       "      <td>3</td>\n",
       "      <td>1</td>\n",
       "      <td>0.46</td>\n",
       "      <td>Agawam</td>\n",
       "      <td>Massachusetts</td>\n",
       "      <td>1001</td>\n",
       "      <td>1196</td>\n",
       "      <td>NaN</td>\n",
       "      <td>239900</td>\n",
       "      <td>50403.756548</td>\n",
       "      <td>Low Income</td>\n",
       "      <td>Low Cost</td>\n",
       "      <td>MA</td>\n",
       "      <td>0</td>\n",
       "    </tr>\n",
       "    <tr>\n",
       "      <th>2</th>\n",
       "      <td>3</td>\n",
       "      <td>3</td>\n",
       "      <td>3</td>\n",
       "      <td>0.45</td>\n",
       "      <td>Agawam</td>\n",
       "      <td>Massachusetts</td>\n",
       "      <td>1001</td>\n",
       "      <td>2314</td>\n",
       "      <td>2014-06-25</td>\n",
       "      <td>525000</td>\n",
       "      <td>50403.756548</td>\n",
       "      <td>Low Income</td>\n",
       "      <td>Medium Cost</td>\n",
       "      <td>MA</td>\n",
       "      <td>0</td>\n",
       "    </tr>\n",
       "    <tr>\n",
       "      <th>3</th>\n",
       "      <td>4</td>\n",
       "      <td>3</td>\n",
       "      <td>2</td>\n",
       "      <td>0.36</td>\n",
       "      <td>Agawam</td>\n",
       "      <td>Massachusetts</td>\n",
       "      <td>1001</td>\n",
       "      <td>1276</td>\n",
       "      <td>2012-10-12</td>\n",
       "      <td>289900</td>\n",
       "      <td>50403.756548</td>\n",
       "      <td>Low Income</td>\n",
       "      <td>Medium Cost</td>\n",
       "      <td>MA</td>\n",
       "      <td>0</td>\n",
       "    </tr>\n",
       "    <tr>\n",
       "      <th>4</th>\n",
       "      <td>5</td>\n",
       "      <td>4</td>\n",
       "      <td>2</td>\n",
       "      <td>0.11</td>\n",
       "      <td>Agawam</td>\n",
       "      <td>Massachusetts</td>\n",
       "      <td>1001</td>\n",
       "      <td>1732</td>\n",
       "      <td>NaN</td>\n",
       "      <td>275000</td>\n",
       "      <td>50403.756548</td>\n",
       "      <td>Low Income</td>\n",
       "      <td>Medium Cost</td>\n",
       "      <td>MA</td>\n",
       "      <td>0</td>\n",
       "    </tr>\n",
       "  </tbody>\n",
       "</table>\n",
       "</div>"
      ],
      "text/plain": [
       "   id  bed  bath  acre_lot    city     state_name  zip_code  house_size  \\\n",
       "0   1    2     1      0.34  Agawam  Massachusetts      1001         676   \n",
       "1   2    3     1      0.46  Agawam  Massachusetts      1001        1196   \n",
       "2   3    3     3      0.45  Agawam  Massachusetts      1001        2314   \n",
       "3   4    3     2      0.36  Agawam  Massachusetts      1001        1276   \n",
       "4   5    4     2      0.11  Agawam  Massachusetts      1001        1732   \n",
       "\n",
       "  prev_sold_date   price  average_income income_level price_category state  \\\n",
       "0            NaN  180000    50403.756548   Low Income       Low Cost    MA   \n",
       "1            NaN  239900    50403.756548   Low Income       Low Cost    MA   \n",
       "2     2014-06-25  525000    50403.756548   Low Income    Medium Cost    MA   \n",
       "3     2012-10-12  289900    50403.756548   Low Income    Medium Cost    MA   \n",
       "4            NaN  275000    50403.756548   Low Income    Medium Cost    MA   \n",
       "\n",
       "   clusters  \n",
       "0         0  \n",
       "1         0  \n",
       "2         0  \n",
       "3         0  \n",
       "4         0  "
      ]
     },
     "execution_count": 4,
     "metadata": {},
     "output_type": "execute_result"
    }
   ],
   "source": [
    "# Show head\n",
    "\n",
    "Housing_Income_Merged_4.head()"
   ]
  },
  {
   "cell_type": "markdown",
   "id": "fa29bf9f",
   "metadata": {},
   "source": [
    "## Exportation"
   ]
  },
  {
   "cell_type": "code",
   "execution_count": 5,
   "id": "d92733e5",
   "metadata": {},
   "outputs": [],
   "source": [
    "# Export as excel file\n",
    "\n",
    "Housing_Income_Merged_4.to_excel(os.path.join(path, '02 Data','Prepared Data', 'Housing_Income_Merged_5.xlsx'))"
   ]
  },
  {
   "cell_type": "code",
   "execution_count": null,
   "id": "8a6c4b13",
   "metadata": {},
   "outputs": [],
   "source": []
  }
 ],
 "metadata": {
  "kernelspec": {
   "display_name": "Python 3 (ipykernel)",
   "language": "python",
   "name": "python3"
  },
  "language_info": {
   "codemirror_mode": {
    "name": "ipython",
    "version": 3
   },
   "file_extension": ".py",
   "mimetype": "text/x-python",
   "name": "python",
   "nbconvert_exporter": "python",
   "pygments_lexer": "ipython3",
   "version": "3.11.4"
  }
 },
 "nbformat": 4,
 "nbformat_minor": 5
}
