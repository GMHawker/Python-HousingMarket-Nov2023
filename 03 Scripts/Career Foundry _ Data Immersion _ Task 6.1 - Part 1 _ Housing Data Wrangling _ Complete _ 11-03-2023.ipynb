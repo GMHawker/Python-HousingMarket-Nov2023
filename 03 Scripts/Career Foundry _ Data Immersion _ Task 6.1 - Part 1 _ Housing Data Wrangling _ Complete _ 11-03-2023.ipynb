{
 "cells": [
  {
   "cell_type": "markdown",
   "id": "ed4fb15b",
   "metadata": {},
   "source": [
    "# Housing Costs and Inflation\n",
    "## Housing Data Wrangling"
   ]
  },
  {
   "cell_type": "markdown",
   "id": "5a55934b",
   "metadata": {},
   "source": [
    "### Importations"
   ]
  },
  {
   "cell_type": "code",
   "execution_count": 1,
   "id": "91926dc0",
   "metadata": {},
   "outputs": [],
   "source": [
    "# Import Libraries\n",
    "\n",
    "import pandas as pd\n",
    "import numpy as np\n",
    "import os"
   ]
  },
  {
   "cell_type": "code",
   "execution_count": 18,
   "id": "4b7a74c8",
   "metadata": {},
   "outputs": [],
   "source": [
    "# Set Path\n",
    "\n",
    "path = r'C:\\Users\\calli\\OneDrive\\Desktop\\School\\Career Foundry\\Data Immersion\\Achievement 6'"
   ]
  },
  {
   "cell_type": "code",
   "execution_count": 20,
   "id": "1acc3622",
   "metadata": {},
   "outputs": [],
   "source": [
    "# Import excel file\n",
    "\n",
    "df_H = pd.read_excel(os.path.join(path, '02 Data', 'Prepared Data', 'Realtor_Data_Cleaned.xlsx'), index_col = False)"
   ]
  },
  {
   "cell_type": "markdown",
   "id": "cd42e7d6",
   "metadata": {},
   "source": [
    "### Descriptive Statistics"
   ]
  },
  {
   "cell_type": "code",
   "execution_count": 28,
   "id": "2424e923",
   "metadata": {},
   "outputs": [
    {
     "data": {
      "text/html": [
       "<div>\n",
       "<style scoped>\n",
       "    .dataframe tbody tr th:only-of-type {\n",
       "        vertical-align: middle;\n",
       "    }\n",
       "\n",
       "    .dataframe tbody tr th {\n",
       "        vertical-align: top;\n",
       "    }\n",
       "\n",
       "    .dataframe thead th {\n",
       "        text-align: right;\n",
       "    }\n",
       "</style>\n",
       "<table border=\"1\" class=\"dataframe\">\n",
       "  <thead>\n",
       "    <tr style=\"text-align: right;\">\n",
       "      <th></th>\n",
       "      <th>bed</th>\n",
       "      <th>bath</th>\n",
       "      <th>acre_lot</th>\n",
       "      <th>city</th>\n",
       "      <th>state</th>\n",
       "      <th>zip_code</th>\n",
       "      <th>house_size</th>\n",
       "      <th>prev_sold_date</th>\n",
       "      <th>price</th>\n",
       "    </tr>\n",
       "  </thead>\n",
       "  <tbody>\n",
       "    <tr>\n",
       "      <th>0</th>\n",
       "      <td>3</td>\n",
       "      <td>2</td>\n",
       "      <td>0.12</td>\n",
       "      <td>Adjuntas</td>\n",
       "      <td>Puerto Rico</td>\n",
       "      <td>601</td>\n",
       "      <td>920</td>\n",
       "      <td>NaT</td>\n",
       "      <td>105000</td>\n",
       "    </tr>\n",
       "    <tr>\n",
       "      <th>1</th>\n",
       "      <td>4</td>\n",
       "      <td>2</td>\n",
       "      <td>0.08</td>\n",
       "      <td>Adjuntas</td>\n",
       "      <td>Puerto Rico</td>\n",
       "      <td>601</td>\n",
       "      <td>1527</td>\n",
       "      <td>NaT</td>\n",
       "      <td>80000</td>\n",
       "    </tr>\n",
       "    <tr>\n",
       "      <th>2</th>\n",
       "      <td>2</td>\n",
       "      <td>1</td>\n",
       "      <td>0.15</td>\n",
       "      <td>Juana Diaz</td>\n",
       "      <td>Puerto Rico</td>\n",
       "      <td>795</td>\n",
       "      <td>748</td>\n",
       "      <td>NaT</td>\n",
       "      <td>67000</td>\n",
       "    </tr>\n",
       "    <tr>\n",
       "      <th>3</th>\n",
       "      <td>4</td>\n",
       "      <td>2</td>\n",
       "      <td>0.10</td>\n",
       "      <td>Ponce</td>\n",
       "      <td>Puerto Rico</td>\n",
       "      <td>731</td>\n",
       "      <td>1800</td>\n",
       "      <td>NaT</td>\n",
       "      <td>145000</td>\n",
       "    </tr>\n",
       "    <tr>\n",
       "      <th>4</th>\n",
       "      <td>4</td>\n",
       "      <td>3</td>\n",
       "      <td>0.46</td>\n",
       "      <td>San Sebastian</td>\n",
       "      <td>Puerto Rico</td>\n",
       "      <td>612</td>\n",
       "      <td>2520</td>\n",
       "      <td>NaT</td>\n",
       "      <td>179000</td>\n",
       "    </tr>\n",
       "  </tbody>\n",
       "</table>\n",
       "</div>"
      ],
      "text/plain": [
       "   bed  bath  acre_lot           city        state  zip_code  house_size  \\\n",
       "0    3     2      0.12       Adjuntas  Puerto Rico       601         920   \n",
       "1    4     2      0.08       Adjuntas  Puerto Rico       601        1527   \n",
       "2    2     1      0.15     Juana Diaz  Puerto Rico       795         748   \n",
       "3    4     2      0.10          Ponce  Puerto Rico       731        1800   \n",
       "4    4     3      0.46  San Sebastian  Puerto Rico       612        2520   \n",
       "\n",
       "  prev_sold_date   price  \n",
       "0            NaT  105000  \n",
       "1            NaT   80000  \n",
       "2            NaT   67000  \n",
       "3            NaT  145000  \n",
       "4            NaT  179000  "
      ]
     },
     "execution_count": 28,
     "metadata": {},
     "output_type": "execute_result"
    }
   ],
   "source": [
    "# Show Head\n",
    "\n",
    "df_H.head()"
   ]
  },
  {
   "cell_type": "code",
   "execution_count": 29,
   "id": "9a391a07",
   "metadata": {},
   "outputs": [
    {
     "data": {
      "text/plain": [
       "(413083, 9)"
      ]
     },
     "execution_count": 29,
     "metadata": {},
     "output_type": "execute_result"
    }
   ],
   "source": [
    "# Show shape\n",
    "\n",
    "df_H.shape"
   ]
  },
  {
   "cell_type": "code",
   "execution_count": 21,
   "id": "4a38dd3f",
   "metadata": {
    "scrolled": true
   },
   "outputs": [
    {
     "data": {
      "text/html": [
       "<div>\n",
       "<style scoped>\n",
       "    .dataframe tbody tr th:only-of-type {\n",
       "        vertical-align: middle;\n",
       "    }\n",
       "\n",
       "    .dataframe tbody tr th {\n",
       "        vertical-align: top;\n",
       "    }\n",
       "\n",
       "    .dataframe thead th {\n",
       "        text-align: right;\n",
       "    }\n",
       "</style>\n",
       "<table border=\"1\" class=\"dataframe\">\n",
       "  <thead>\n",
       "    <tr style=\"text-align: right;\">\n",
       "      <th></th>\n",
       "      <th>bed</th>\n",
       "      <th>bath</th>\n",
       "      <th>acre_lot</th>\n",
       "      <th>zip_code</th>\n",
       "      <th>house_size</th>\n",
       "      <th>prev_sold_date</th>\n",
       "      <th>price</th>\n",
       "    </tr>\n",
       "  </thead>\n",
       "  <tbody>\n",
       "    <tr>\n",
       "      <th>count</th>\n",
       "      <td>413083.00</td>\n",
       "      <td>413083.00</td>\n",
       "      <td>413083.00</td>\n",
       "      <td>413083.00</td>\n",
       "      <td>413083.00</td>\n",
       "      <td>226626.00</td>\n",
       "      <td>413083.00</td>\n",
       "    </tr>\n",
       "    <tr>\n",
       "      <th>mean</th>\n",
       "      <td>3.81</td>\n",
       "      <td>2.69</td>\n",
       "      <td>9.56</td>\n",
       "      <td>5757.73</td>\n",
       "      <td>2403.08</td>\n",
       "      <td>.2f</td>\n",
       "      <td>773913.69</td>\n",
       "    </tr>\n",
       "    <tr>\n",
       "      <th>min</th>\n",
       "      <td>1.00</td>\n",
       "      <td>1.00</td>\n",
       "      <td>0.00</td>\n",
       "      <td>601.00</td>\n",
       "      <td>122.00</td>\n",
       "      <td>.2f</td>\n",
       "      <td>500.00</td>\n",
       "    </tr>\n",
       "    <tr>\n",
       "      <th>25%</th>\n",
       "      <td>3.00</td>\n",
       "      <td>2.00</td>\n",
       "      <td>0.11</td>\n",
       "      <td>2467.00</td>\n",
       "      <td>1330.00</td>\n",
       "      <td>.2f</td>\n",
       "      <td>280000.00</td>\n",
       "    </tr>\n",
       "    <tr>\n",
       "      <th>50%</th>\n",
       "      <td>3.00</td>\n",
       "      <td>2.00</td>\n",
       "      <td>0.26</td>\n",
       "      <td>5681.00</td>\n",
       "      <td>1890.00</td>\n",
       "      <td>.2f</td>\n",
       "      <td>450000.00</td>\n",
       "    </tr>\n",
       "    <tr>\n",
       "      <th>75%</th>\n",
       "      <td>4.00</td>\n",
       "      <td>3.00</td>\n",
       "      <td>0.88</td>\n",
       "      <td>8041.00</td>\n",
       "      <td>2770.00</td>\n",
       "      <td>.2f</td>\n",
       "      <td>779000.00</td>\n",
       "    </tr>\n",
       "    <tr>\n",
       "      <th>max</th>\n",
       "      <td>99.00</td>\n",
       "      <td>198.00</td>\n",
       "      <td>100000.00</td>\n",
       "      <td>95652.00</td>\n",
       "      <td>1450112.00</td>\n",
       "      <td>.2f</td>\n",
       "      <td>169000000.00</td>\n",
       "    </tr>\n",
       "    <tr>\n",
       "      <th>std</th>\n",
       "      <td>2.18</td>\n",
       "      <td>2.23</td>\n",
       "      <td>640.33</td>\n",
       "      <td>4073.13</td>\n",
       "      <td>3308.14</td>\n",
       "      <td>nan</td>\n",
       "      <td>1470700.49</td>\n",
       "    </tr>\n",
       "  </tbody>\n",
       "</table>\n",
       "</div>"
      ],
      "text/plain": [
       "             bed       bath   acre_lot   zip_code  house_size prev_sold_date  \\\n",
       "count  413083.00  413083.00  413083.00  413083.00   413083.00      226626.00   \n",
       "mean        3.81       2.69       9.56    5757.73     2403.08            .2f   \n",
       "min         1.00       1.00       0.00     601.00      122.00            .2f   \n",
       "25%         3.00       2.00       0.11    2467.00     1330.00            .2f   \n",
       "50%         3.00       2.00       0.26    5681.00     1890.00            .2f   \n",
       "75%         4.00       3.00       0.88    8041.00     2770.00            .2f   \n",
       "max        99.00     198.00  100000.00   95652.00  1450112.00            .2f   \n",
       "std         2.18       2.23     640.33    4073.13     3308.14            nan   \n",
       "\n",
       "              price  \n",
       "count     413083.00  \n",
       "mean      773913.69  \n",
       "min          500.00  \n",
       "25%       280000.00  \n",
       "50%       450000.00  \n",
       "75%       779000.00  \n",
       "max    169000000.00  \n",
       "std      1470700.49  "
      ]
     },
     "execution_count": 21,
     "metadata": {},
     "output_type": "execute_result"
    }
   ],
   "source": [
    "# Show Statistics formatted to easily read numbers\n",
    "\n",
    "df_H.describe().apply(lambda s: s.apply('{0:.2f}'.format))"
   ]
  },
  {
   "cell_type": "code",
   "execution_count": 22,
   "id": "b6a336dc",
   "metadata": {},
   "outputs": [
    {
     "data": {
      "text/html": [
       "<div>\n",
       "<style scoped>\n",
       "    .dataframe tbody tr th:only-of-type {\n",
       "        vertical-align: middle;\n",
       "    }\n",
       "\n",
       "    .dataframe tbody tr th {\n",
       "        vertical-align: top;\n",
       "    }\n",
       "\n",
       "    .dataframe thead th {\n",
       "        text-align: right;\n",
       "    }\n",
       "</style>\n",
       "<table border=\"1\" class=\"dataframe\">\n",
       "  <thead>\n",
       "    <tr style=\"text-align: right;\">\n",
       "      <th></th>\n",
       "      <th>bed</th>\n",
       "      <th>bath</th>\n",
       "      <th>acre_lot</th>\n",
       "      <th>zip_code</th>\n",
       "      <th>house_size</th>\n",
       "      <th>prev_sold_date</th>\n",
       "      <th>price</th>\n",
       "    </tr>\n",
       "  </thead>\n",
       "  <tbody>\n",
       "    <tr>\n",
       "      <th>count</th>\n",
       "      <td>413083.000000</td>\n",
       "      <td>413083.000000</td>\n",
       "      <td>413083.000000</td>\n",
       "      <td>413083.000000</td>\n",
       "      <td>4.130830e+05</td>\n",
       "      <td>226626</td>\n",
       "      <td>4.130830e+05</td>\n",
       "    </tr>\n",
       "    <tr>\n",
       "      <th>mean</th>\n",
       "      <td>3.813183</td>\n",
       "      <td>2.692861</td>\n",
       "      <td>9.564810</td>\n",
       "      <td>5757.732761</td>\n",
       "      <td>2.403078e+03</td>\n",
       "      <td>2008-01-04 00:31:24.493394432</td>\n",
       "      <td>7.739137e+05</td>\n",
       "    </tr>\n",
       "    <tr>\n",
       "      <th>min</th>\n",
       "      <td>1.000000</td>\n",
       "      <td>1.000000</td>\n",
       "      <td>0.000000</td>\n",
       "      <td>601.000000</td>\n",
       "      <td>1.220000e+02</td>\n",
       "      <td>1901-01-01 00:00:00</td>\n",
       "      <td>5.000000e+02</td>\n",
       "    </tr>\n",
       "    <tr>\n",
       "      <th>25%</th>\n",
       "      <td>3.000000</td>\n",
       "      <td>2.000000</td>\n",
       "      <td>0.110000</td>\n",
       "      <td>2467.000000</td>\n",
       "      <td>1.330000e+03</td>\n",
       "      <td>2001-06-29 00:00:00</td>\n",
       "      <td>2.800000e+05</td>\n",
       "    </tr>\n",
       "    <tr>\n",
       "      <th>50%</th>\n",
       "      <td>3.000000</td>\n",
       "      <td>2.000000</td>\n",
       "      <td>0.260000</td>\n",
       "      <td>5681.000000</td>\n",
       "      <td>1.890000e+03</td>\n",
       "      <td>2008-04-01 00:00:00</td>\n",
       "      <td>4.500000e+05</td>\n",
       "    </tr>\n",
       "    <tr>\n",
       "      <th>75%</th>\n",
       "      <td>4.000000</td>\n",
       "      <td>3.000000</td>\n",
       "      <td>0.880000</td>\n",
       "      <td>8041.000000</td>\n",
       "      <td>2.770000e+03</td>\n",
       "      <td>2017-04-28 00:00:00</td>\n",
       "      <td>7.790000e+05</td>\n",
       "    </tr>\n",
       "    <tr>\n",
       "      <th>max</th>\n",
       "      <td>99.000000</td>\n",
       "      <td>198.000000</td>\n",
       "      <td>100000.000000</td>\n",
       "      <td>95652.000000</td>\n",
       "      <td>1.450112e+06</td>\n",
       "      <td>2023-03-01 00:00:00</td>\n",
       "      <td>1.690000e+08</td>\n",
       "    </tr>\n",
       "    <tr>\n",
       "      <th>std</th>\n",
       "      <td>2.180268</td>\n",
       "      <td>2.232729</td>\n",
       "      <td>640.326835</td>\n",
       "      <td>4073.133511</td>\n",
       "      <td>3.308144e+03</td>\n",
       "      <td>NaN</td>\n",
       "      <td>1.470700e+06</td>\n",
       "    </tr>\n",
       "  </tbody>\n",
       "</table>\n",
       "</div>"
      ],
      "text/plain": [
       "                 bed           bath       acre_lot       zip_code  \\\n",
       "count  413083.000000  413083.000000  413083.000000  413083.000000   \n",
       "mean        3.813183       2.692861       9.564810    5757.732761   \n",
       "min         1.000000       1.000000       0.000000     601.000000   \n",
       "25%         3.000000       2.000000       0.110000    2467.000000   \n",
       "50%         3.000000       2.000000       0.260000    5681.000000   \n",
       "75%         4.000000       3.000000       0.880000    8041.000000   \n",
       "max        99.000000     198.000000  100000.000000   95652.000000   \n",
       "std         2.180268       2.232729     640.326835    4073.133511   \n",
       "\n",
       "         house_size                 prev_sold_date         price  \n",
       "count  4.130830e+05                         226626  4.130830e+05  \n",
       "mean   2.403078e+03  2008-01-04 00:31:24.493394432  7.739137e+05  \n",
       "min    1.220000e+02            1901-01-01 00:00:00  5.000000e+02  \n",
       "25%    1.330000e+03            2001-06-29 00:00:00  2.800000e+05  \n",
       "50%    1.890000e+03            2008-04-01 00:00:00  4.500000e+05  \n",
       "75%    2.770000e+03            2017-04-28 00:00:00  7.790000e+05  \n",
       "max    1.450112e+06            2023-03-01 00:00:00  1.690000e+08  \n",
       "std    3.308144e+03                            NaN  1.470700e+06  "
      ]
     },
     "execution_count": 22,
     "metadata": {},
     "output_type": "execute_result"
    }
   ],
   "source": [
    "# Show Statistics\n",
    "\n",
    "df_H.describe()"
   ]
  },
  {
   "cell_type": "markdown",
   "id": "0c8a6af8",
   "metadata": {},
   "source": [
    "### Consistency Checks"
   ]
  },
  {
   "cell_type": "code",
   "execution_count": 25,
   "id": "75ab991a",
   "metadata": {},
   "outputs": [
    {
     "name": "stdout",
     "output_type": "stream",
     "text": [
      "prev_sold_date\n"
     ]
    }
   ],
   "source": [
    "# Check for mixed data types\n",
    "\n",
    "for col in df_H.columns.tolist():\n",
    "  weird = (df_H[[col]].applymap(type) != df_H[[col]].iloc[0].apply(type)).any(axis = 1)\n",
    "  if len (df_H[weird]) > 0:\n",
    "    print (col)"
   ]
  },
  {
   "cell_type": "code",
   "execution_count": 26,
   "id": "68bca40f",
   "metadata": {},
   "outputs": [
    {
     "data": {
      "text/plain": [
       "bed                    0\n",
       "bath                   0\n",
       "acre_lot               0\n",
       "city                   0\n",
       "state                  0\n",
       "zip_code               0\n",
       "house_size             0\n",
       "prev_sold_date    186457\n",
       "price                  0\n",
       "dtype: int64"
      ]
     },
     "execution_count": 26,
     "metadata": {},
     "output_type": "execute_result"
    }
   ],
   "source": [
    "# Check for missing values\n",
    "\n",
    "df_H.isnull().sum()"
   ]
  },
  {
   "cell_type": "code",
   "execution_count": 32,
   "id": "d4b11300",
   "metadata": {},
   "outputs": [],
   "source": [
    "# Create view of homes with previous sale date\n",
    "\n",
    "df_H_old = df_H[df_H['prev_sold_date'].isnull() == False]"
   ]
  },
  {
   "cell_type": "code",
   "execution_count": 33,
   "id": "3b7a9893",
   "metadata": {},
   "outputs": [
    {
     "data": {
      "text/html": [
       "<div>\n",
       "<style scoped>\n",
       "    .dataframe tbody tr th:only-of-type {\n",
       "        vertical-align: middle;\n",
       "    }\n",
       "\n",
       "    .dataframe tbody tr th {\n",
       "        vertical-align: top;\n",
       "    }\n",
       "\n",
       "    .dataframe thead th {\n",
       "        text-align: right;\n",
       "    }\n",
       "</style>\n",
       "<table border=\"1\" class=\"dataframe\">\n",
       "  <thead>\n",
       "    <tr style=\"text-align: right;\">\n",
       "      <th></th>\n",
       "      <th>bed</th>\n",
       "      <th>bath</th>\n",
       "      <th>acre_lot</th>\n",
       "      <th>city</th>\n",
       "      <th>state</th>\n",
       "      <th>zip_code</th>\n",
       "      <th>house_size</th>\n",
       "      <th>prev_sold_date</th>\n",
       "      <th>price</th>\n",
       "    </tr>\n",
       "  </thead>\n",
       "  <tbody>\n",
       "    <tr>\n",
       "      <th>534</th>\n",
       "      <td>7</td>\n",
       "      <td>3</td>\n",
       "      <td>0.09</td>\n",
       "      <td>Dorado</td>\n",
       "      <td>Puerto Rico</td>\n",
       "      <td>949</td>\n",
       "      <td>1192</td>\n",
       "      <td>2019-06-28</td>\n",
       "      <td>110000</td>\n",
       "    </tr>\n",
       "    <tr>\n",
       "      <th>2131</th>\n",
       "      <td>7</td>\n",
       "      <td>3</td>\n",
       "      <td>0.09</td>\n",
       "      <td>Dorado</td>\n",
       "      <td>Puerto Rico</td>\n",
       "      <td>949</td>\n",
       "      <td>1192</td>\n",
       "      <td>2019-06-28</td>\n",
       "      <td>110000</td>\n",
       "    </tr>\n",
       "    <tr>\n",
       "      <th>3217</th>\n",
       "      <td>7</td>\n",
       "      <td>3</td>\n",
       "      <td>0.09</td>\n",
       "      <td>Dorado</td>\n",
       "      <td>Puerto Rico</td>\n",
       "      <td>949</td>\n",
       "      <td>1192</td>\n",
       "      <td>2019-06-28</td>\n",
       "      <td>110000</td>\n",
       "    </tr>\n",
       "    <tr>\n",
       "      <th>3392</th>\n",
       "      <td>7</td>\n",
       "      <td>3</td>\n",
       "      <td>0.09</td>\n",
       "      <td>Dorado</td>\n",
       "      <td>Puerto Rico</td>\n",
       "      <td>949</td>\n",
       "      <td>1192</td>\n",
       "      <td>2019-06-28</td>\n",
       "      <td>110000</td>\n",
       "    </tr>\n",
       "    <tr>\n",
       "      <th>5773</th>\n",
       "      <td>7</td>\n",
       "      <td>3</td>\n",
       "      <td>0.09</td>\n",
       "      <td>Dorado</td>\n",
       "      <td>Puerto Rico</td>\n",
       "      <td>949</td>\n",
       "      <td>1192</td>\n",
       "      <td>2019-06-28</td>\n",
       "      <td>110000</td>\n",
       "    </tr>\n",
       "  </tbody>\n",
       "</table>\n",
       "</div>"
      ],
      "text/plain": [
       "      bed  bath  acre_lot    city        state  zip_code  house_size  \\\n",
       "534     7     3      0.09  Dorado  Puerto Rico       949        1192   \n",
       "2131    7     3      0.09  Dorado  Puerto Rico       949        1192   \n",
       "3217    7     3      0.09  Dorado  Puerto Rico       949        1192   \n",
       "3392    7     3      0.09  Dorado  Puerto Rico       949        1192   \n",
       "5773    7     3      0.09  Dorado  Puerto Rico       949        1192   \n",
       "\n",
       "     prev_sold_date   price  \n",
       "534      2019-06-28  110000  \n",
       "2131     2019-06-28  110000  \n",
       "3217     2019-06-28  110000  \n",
       "3392     2019-06-28  110000  \n",
       "5773     2019-06-28  110000  "
      ]
     },
     "execution_count": 33,
     "metadata": {},
     "output_type": "execute_result"
    }
   ],
   "source": [
    "# Show df_H_old head\n",
    "\n",
    "df_H_old.head()"
   ]
  },
  {
   "cell_type": "code",
   "execution_count": 34,
   "id": "4580e0a7",
   "metadata": {},
   "outputs": [
    {
     "data": {
      "text/plain": [
       "(226626, 9)"
      ]
     },
     "execution_count": 34,
     "metadata": {},
     "output_type": "execute_result"
    }
   ],
   "source": [
    "# Show df_H_old shape\n",
    "\n",
    "df_H_old.shape"
   ]
  },
  {
   "cell_type": "code",
   "execution_count": 36,
   "id": "c14d9471",
   "metadata": {},
   "outputs": [],
   "source": [
    "# Create view of homes without previous sale date\n",
    "\n",
    "df_H_new = df_H[df_H['prev_sold_date'].isnull() == True]"
   ]
  },
  {
   "cell_type": "code",
   "execution_count": 37,
   "id": "334a3e3d",
   "metadata": {},
   "outputs": [
    {
     "data": {
      "text/html": [
       "<div>\n",
       "<style scoped>\n",
       "    .dataframe tbody tr th:only-of-type {\n",
       "        vertical-align: middle;\n",
       "    }\n",
       "\n",
       "    .dataframe tbody tr th {\n",
       "        vertical-align: top;\n",
       "    }\n",
       "\n",
       "    .dataframe thead th {\n",
       "        text-align: right;\n",
       "    }\n",
       "</style>\n",
       "<table border=\"1\" class=\"dataframe\">\n",
       "  <thead>\n",
       "    <tr style=\"text-align: right;\">\n",
       "      <th></th>\n",
       "      <th>bed</th>\n",
       "      <th>bath</th>\n",
       "      <th>acre_lot</th>\n",
       "      <th>city</th>\n",
       "      <th>state</th>\n",
       "      <th>zip_code</th>\n",
       "      <th>house_size</th>\n",
       "      <th>prev_sold_date</th>\n",
       "      <th>price</th>\n",
       "    </tr>\n",
       "  </thead>\n",
       "  <tbody>\n",
       "    <tr>\n",
       "      <th>0</th>\n",
       "      <td>3</td>\n",
       "      <td>2</td>\n",
       "      <td>0.12</td>\n",
       "      <td>Adjuntas</td>\n",
       "      <td>Puerto Rico</td>\n",
       "      <td>601</td>\n",
       "      <td>920</td>\n",
       "      <td>NaT</td>\n",
       "      <td>105000</td>\n",
       "    </tr>\n",
       "    <tr>\n",
       "      <th>1</th>\n",
       "      <td>4</td>\n",
       "      <td>2</td>\n",
       "      <td>0.08</td>\n",
       "      <td>Adjuntas</td>\n",
       "      <td>Puerto Rico</td>\n",
       "      <td>601</td>\n",
       "      <td>1527</td>\n",
       "      <td>NaT</td>\n",
       "      <td>80000</td>\n",
       "    </tr>\n",
       "    <tr>\n",
       "      <th>2</th>\n",
       "      <td>2</td>\n",
       "      <td>1</td>\n",
       "      <td>0.15</td>\n",
       "      <td>Juana Diaz</td>\n",
       "      <td>Puerto Rico</td>\n",
       "      <td>795</td>\n",
       "      <td>748</td>\n",
       "      <td>NaT</td>\n",
       "      <td>67000</td>\n",
       "    </tr>\n",
       "    <tr>\n",
       "      <th>3</th>\n",
       "      <td>4</td>\n",
       "      <td>2</td>\n",
       "      <td>0.10</td>\n",
       "      <td>Ponce</td>\n",
       "      <td>Puerto Rico</td>\n",
       "      <td>731</td>\n",
       "      <td>1800</td>\n",
       "      <td>NaT</td>\n",
       "      <td>145000</td>\n",
       "    </tr>\n",
       "    <tr>\n",
       "      <th>4</th>\n",
       "      <td>4</td>\n",
       "      <td>3</td>\n",
       "      <td>0.46</td>\n",
       "      <td>San Sebastian</td>\n",
       "      <td>Puerto Rico</td>\n",
       "      <td>612</td>\n",
       "      <td>2520</td>\n",
       "      <td>NaT</td>\n",
       "      <td>179000</td>\n",
       "    </tr>\n",
       "  </tbody>\n",
       "</table>\n",
       "</div>"
      ],
      "text/plain": [
       "   bed  bath  acre_lot           city        state  zip_code  house_size  \\\n",
       "0    3     2      0.12       Adjuntas  Puerto Rico       601         920   \n",
       "1    4     2      0.08       Adjuntas  Puerto Rico       601        1527   \n",
       "2    2     1      0.15     Juana Diaz  Puerto Rico       795         748   \n",
       "3    4     2      0.10          Ponce  Puerto Rico       731        1800   \n",
       "4    4     3      0.46  San Sebastian  Puerto Rico       612        2520   \n",
       "\n",
       "  prev_sold_date   price  \n",
       "0            NaT  105000  \n",
       "1            NaT   80000  \n",
       "2            NaT   67000  \n",
       "3            NaT  145000  \n",
       "4            NaT  179000  "
      ]
     },
     "execution_count": 37,
     "metadata": {},
     "output_type": "execute_result"
    }
   ],
   "source": [
    "# Show df_H_new head\n",
    "\n",
    "df_H_new.head()"
   ]
  },
  {
   "cell_type": "code",
   "execution_count": 38,
   "id": "f8081f1e",
   "metadata": {},
   "outputs": [
    {
     "data": {
      "text/plain": [
       "(186457, 9)"
      ]
     },
     "execution_count": 38,
     "metadata": {},
     "output_type": "execute_result"
    }
   ],
   "source": [
    "# Show df_H_old shape\n",
    "\n",
    "df_H_new.shape"
   ]
  },
  {
   "cell_type": "code",
   "execution_count": 39,
   "id": "74f81c00",
   "metadata": {},
   "outputs": [],
   "source": [
    "# Check for duplicates\n",
    "\n",
    "df_dups = df_H[df_H.duplicated()]"
   ]
  },
  {
   "cell_type": "code",
   "execution_count": 41,
   "id": "e619c9cb",
   "metadata": {},
   "outputs": [
    {
     "data": {
      "text/html": [
       "<div>\n",
       "<style scoped>\n",
       "    .dataframe tbody tr th:only-of-type {\n",
       "        vertical-align: middle;\n",
       "    }\n",
       "\n",
       "    .dataframe tbody tr th {\n",
       "        vertical-align: top;\n",
       "    }\n",
       "\n",
       "    .dataframe thead th {\n",
       "        text-align: right;\n",
       "    }\n",
       "</style>\n",
       "<table border=\"1\" class=\"dataframe\">\n",
       "  <thead>\n",
       "    <tr style=\"text-align: right;\">\n",
       "      <th></th>\n",
       "      <th>bed</th>\n",
       "      <th>bath</th>\n",
       "      <th>acre_lot</th>\n",
       "      <th>city</th>\n",
       "      <th>state</th>\n",
       "      <th>zip_code</th>\n",
       "      <th>house_size</th>\n",
       "      <th>prev_sold_date</th>\n",
       "      <th>price</th>\n",
       "    </tr>\n",
       "  </thead>\n",
       "  <tbody>\n",
       "    <tr>\n",
       "      <th>83</th>\n",
       "      <td>3</td>\n",
       "      <td>2</td>\n",
       "      <td>0.08</td>\n",
       "      <td>Ponce</td>\n",
       "      <td>Puerto Rico</td>\n",
       "      <td>728</td>\n",
       "      <td>1500</td>\n",
       "      <td>NaT</td>\n",
       "      <td>105000</td>\n",
       "    </tr>\n",
       "    <tr>\n",
       "      <th>87</th>\n",
       "      <td>5</td>\n",
       "      <td>3</td>\n",
       "      <td>7.46</td>\n",
       "      <td>Las Marias</td>\n",
       "      <td>Puerto Rico</td>\n",
       "      <td>670</td>\n",
       "      <td>5403</td>\n",
       "      <td>NaT</td>\n",
       "      <td>300000</td>\n",
       "    </tr>\n",
       "    <tr>\n",
       "      <th>88</th>\n",
       "      <td>3</td>\n",
       "      <td>2</td>\n",
       "      <td>0.10</td>\n",
       "      <td>Lares</td>\n",
       "      <td>Puerto Rico</td>\n",
       "      <td>669</td>\n",
       "      <td>4161</td>\n",
       "      <td>NaT</td>\n",
       "      <td>155000</td>\n",
       "    </tr>\n",
       "    <tr>\n",
       "      <th>94</th>\n",
       "      <td>3</td>\n",
       "      <td>2</td>\n",
       "      <td>0.05</td>\n",
       "      <td>Yauco</td>\n",
       "      <td>Puerto Rico</td>\n",
       "      <td>698</td>\n",
       "      <td>1118</td>\n",
       "      <td>NaT</td>\n",
       "      <td>122500</td>\n",
       "    </tr>\n",
       "    <tr>\n",
       "      <th>95</th>\n",
       "      <td>3</td>\n",
       "      <td>2</td>\n",
       "      <td>3.88</td>\n",
       "      <td>San Sebastian</td>\n",
       "      <td>Puerto Rico</td>\n",
       "      <td>685</td>\n",
       "      <td>4000</td>\n",
       "      <td>NaT</td>\n",
       "      <td>575000</td>\n",
       "    </tr>\n",
       "    <tr>\n",
       "      <th>...</th>\n",
       "      <td>...</td>\n",
       "      <td>...</td>\n",
       "      <td>...</td>\n",
       "      <td>...</td>\n",
       "      <td>...</td>\n",
       "      <td>...</td>\n",
       "      <td>...</td>\n",
       "      <td>...</td>\n",
       "      <td>...</td>\n",
       "    </tr>\n",
       "    <tr>\n",
       "      <th>413049</th>\n",
       "      <td>6</td>\n",
       "      <td>6</td>\n",
       "      <td>0.30</td>\n",
       "      <td>Bronxville</td>\n",
       "      <td>New York</td>\n",
       "      <td>10708</td>\n",
       "      <td>3897</td>\n",
       "      <td>2014-08-21</td>\n",
       "      <td>2850000</td>\n",
       "    </tr>\n",
       "    <tr>\n",
       "      <th>413050</th>\n",
       "      <td>3</td>\n",
       "      <td>3</td>\n",
       "      <td>0.35</td>\n",
       "      <td>White Plains</td>\n",
       "      <td>New York</td>\n",
       "      <td>10605</td>\n",
       "      <td>2267</td>\n",
       "      <td>NaT</td>\n",
       "      <td>774000</td>\n",
       "    </tr>\n",
       "    <tr>\n",
       "      <th>413052</th>\n",
       "      <td>5</td>\n",
       "      <td>2</td>\n",
       "      <td>0.11</td>\n",
       "      <td>Mount Vernon</td>\n",
       "      <td>New York</td>\n",
       "      <td>10553</td>\n",
       "      <td>2217</td>\n",
       "      <td>2001-02-20</td>\n",
       "      <td>675000</td>\n",
       "    </tr>\n",
       "    <tr>\n",
       "      <th>413054</th>\n",
       "      <td>4</td>\n",
       "      <td>3</td>\n",
       "      <td>0.05</td>\n",
       "      <td>Bronx</td>\n",
       "      <td>New York</td>\n",
       "      <td>10466</td>\n",
       "      <td>1260</td>\n",
       "      <td>1997-05-20</td>\n",
       "      <td>700000</td>\n",
       "    </tr>\n",
       "    <tr>\n",
       "      <th>413056</th>\n",
       "      <td>3</td>\n",
       "      <td>4</td>\n",
       "      <td>1.63</td>\n",
       "      <td>Armonk</td>\n",
       "      <td>New York</td>\n",
       "      <td>10504</td>\n",
       "      <td>2688</td>\n",
       "      <td>1996-05-21</td>\n",
       "      <td>1475000</td>\n",
       "    </tr>\n",
       "  </tbody>\n",
       "</table>\n",
       "<p>361123 rows × 9 columns</p>\n",
       "</div>"
      ],
      "text/plain": [
       "        bed  bath  acre_lot           city        state  zip_code  house_size  \\\n",
       "83        3     2      0.08          Ponce  Puerto Rico       728        1500   \n",
       "87        5     3      7.46     Las Marias  Puerto Rico       670        5403   \n",
       "88        3     2      0.10          Lares  Puerto Rico       669        4161   \n",
       "94        3     2      0.05          Yauco  Puerto Rico       698        1118   \n",
       "95        3     2      3.88  San Sebastian  Puerto Rico       685        4000   \n",
       "...     ...   ...       ...            ...          ...       ...         ...   \n",
       "413049    6     6      0.30     Bronxville     New York     10708        3897   \n",
       "413050    3     3      0.35   White Plains     New York     10605        2267   \n",
       "413052    5     2      0.11   Mount Vernon     New York     10553        2217   \n",
       "413054    4     3      0.05          Bronx     New York     10466        1260   \n",
       "413056    3     4      1.63         Armonk     New York     10504        2688   \n",
       "\n",
       "       prev_sold_date    price  \n",
       "83                NaT   105000  \n",
       "87                NaT   300000  \n",
       "88                NaT   155000  \n",
       "94                NaT   122500  \n",
       "95                NaT   575000  \n",
       "...               ...      ...  \n",
       "413049     2014-08-21  2850000  \n",
       "413050            NaT   774000  \n",
       "413052     2001-02-20   675000  \n",
       "413054     1997-05-20   700000  \n",
       "413056     1996-05-21  1475000  \n",
       "\n",
       "[361123 rows x 9 columns]"
      ]
     },
     "execution_count": 41,
     "metadata": {},
     "output_type": "execute_result"
    }
   ],
   "source": [
    "# Show duplicates\n",
    "\n",
    "df_dups"
   ]
  },
  {
   "cell_type": "code",
   "execution_count": 42,
   "id": "697e8354",
   "metadata": {},
   "outputs": [
    {
     "data": {
      "text/plain": [
       "51960"
      ]
     },
     "execution_count": 42,
     "metadata": {},
     "output_type": "execute_result"
    }
   ],
   "source": [
    "# Check difference between df_H and df_dups\n",
    "\n",
    "413083-361123"
   ]
  },
  {
   "cell_type": "code",
   "execution_count": 43,
   "id": "bdd8f1de",
   "metadata": {},
   "outputs": [],
   "source": [
    "# Drop duplicate rows from full dataframe\n",
    "\n",
    "df_H_no_dups = df_H.drop_duplicates()"
   ]
  },
  {
   "cell_type": "code",
   "execution_count": 44,
   "id": "3f1569e9",
   "metadata": {},
   "outputs": [
    {
     "data": {
      "text/plain": [
       "(51960, 9)"
      ]
     },
     "execution_count": 44,
     "metadata": {},
     "output_type": "execute_result"
    }
   ],
   "source": [
    "# Show df_H_no_dups shape\n",
    "\n",
    "df_H_no_dups.shape"
   ]
  },
  {
   "cell_type": "code",
   "execution_count": 45,
   "id": "6ed7c4f2",
   "metadata": {},
   "outputs": [],
   "source": [
    "# Drop duplicate rows from view of homes without previous sale date\n",
    "\n",
    "df_H_new_no_dups = df_H_new.drop_duplicates()"
   ]
  },
  {
   "cell_type": "code",
   "execution_count": 46,
   "id": "dc50058e",
   "metadata": {},
   "outputs": [],
   "source": [
    "# Drop duplicate rows from view of homes with previous sale date\n",
    "\n",
    "df_H_old_no_dups = df_H_old.drop_duplicates()"
   ]
  },
  {
   "cell_type": "code",
   "execution_count": 48,
   "id": "a757af83",
   "metadata": {},
   "outputs": [
    {
     "data": {
      "text/plain": [
       "(20123, 9)"
      ]
     },
     "execution_count": 48,
     "metadata": {},
     "output_type": "execute_result"
    }
   ],
   "source": [
    "# Show df_H_new_no_dups shape\n",
    "\n",
    "df_H_new_no_dups.shape"
   ]
  },
  {
   "cell_type": "code",
   "execution_count": 49,
   "id": "95198925",
   "metadata": {},
   "outputs": [
    {
     "data": {
      "text/plain": [
       "(31837, 9)"
      ]
     },
     "execution_count": 49,
     "metadata": {},
     "output_type": "execute_result"
    }
   ],
   "source": [
    "# Show df_H_old_no_dups shape\n",
    "\n",
    "df_H_old_no_dups.shape"
   ]
  },
  {
   "cell_type": "markdown",
   "id": "7b5c604a",
   "metadata": {},
   "source": [
    "### Exportations"
   ]
  },
  {
   "cell_type": "code",
   "execution_count": 50,
   "id": "913bff1f",
   "metadata": {},
   "outputs": [],
   "source": [
    "# Export Dataframe df_H_new_no_dups as Realtor_Wrangled_New_Homes into csv file\n",
    "\n",
    "df_H_new_no_dups.to_csv(os.path.join(path, '02 Data','Prepared Data', 'Realtor_Wrangled_New_Homes.csv'))"
   ]
  },
  {
   "cell_type": "code",
   "execution_count": 51,
   "id": "20a7dd6e",
   "metadata": {},
   "outputs": [],
   "source": [
    "# Export Dataframe df_H_old_no_dups as Realtor_Wrangled_Old_Homes into csv file\n",
    "\n",
    "df_H_old_no_dups.to_csv(os.path.join(path, '02 Data','Prepared Data', 'Realtor_Wrangled_Old_Homes.csv'))"
   ]
  },
  {
   "cell_type": "code",
   "execution_count": 52,
   "id": "f0934e21",
   "metadata": {},
   "outputs": [],
   "source": [
    "# Export Dataframe df_H_no_dups as Realtor_Wrangled_Full into csv file\n",
    "\n",
    "df_H_no_dups.to_csv(os.path.join(path, '02 Data','Prepared Data', 'Realtor_Wrangled_Full.csv'))"
   ]
  },
  {
   "cell_type": "code",
   "execution_count": null,
   "id": "1d6bbd36",
   "metadata": {},
   "outputs": [],
   "source": []
  }
 ],
 "metadata": {
  "kernelspec": {
   "display_name": "Python 3 (ipykernel)",
   "language": "python",
   "name": "python3"
  },
  "language_info": {
   "codemirror_mode": {
    "name": "ipython",
    "version": 3
   },
   "file_extension": ".py",
   "mimetype": "text/x-python",
   "name": "python",
   "nbconvert_exporter": "python",
   "pygments_lexer": "ipython3",
   "version": "3.11.4"
  }
 },
 "nbformat": 4,
 "nbformat_minor": 5
}
